{
 "cells": [
  {
   "cell_type": "code",
   "execution_count": null,
   "metadata": {
    "collapsed": true
   },
   "outputs": [],
   "source": []
  },
  {
   "cell_type": "code",
   "execution_count": 5,
   "metadata": {
    "collapsed": false
   },
   "outputs": [
    {
     "name": "stdout",
     "output_type": "stream",
     "text": [
      "x_train:  (3998, 32)\n",
      "x_train_numeric_data:  (3998, 25)\n",
      "Test salaries:  (1500,)\n",
      "(1500, 25)\n"
     ]
    }
   ],
   "source": [
    "import pandas as pd\n",
    "from sklearn import tree\n",
    "from sklearn.metrics import mean_squared_error\n",
    "from sklearn.metrics import mean_absolute_error\n",
    "\n",
    "rawdata = pd.read_excel('train.xlsx', sheetname='Sheet1')\n",
    "# print rawdata.shape # (3998, 38)\n",
    "\n",
    "# Drop all 5 dependant variables and the ID column\n",
    "x_train = rawdata.drop(['ID','Salary','DOJ','DOL','Designation','JobCity'], axis=1) \n",
    "\n",
    "# Extracting only columns with numeric data\n",
    "x_train_numeric_data = x_train._get_numeric_data()\n",
    "\n",
    "print \"x_train: \", x_train.shape\n",
    "print \"x_train_numeric_data: \", x_train_numeric_data.shape\n",
    "\n",
    "# Extract salaries to a list\n",
    "salaries_train = rawdata['Salary']\n",
    "\n",
    "# get test data\n",
    "testdata_raw = pd.read_excel('test.xlsx', sheetname='Sheet1')\n",
    "\n",
    "x_test = testdata_raw.drop(['ID','Salary','DOJ','DOL','Designation','JobCity'], axis=1) \n",
    "x_test_numeric_data = x_test._get_numeric_data()\n",
    "test_salaries = testdata_raw['Salary']\n",
    "\n",
    "print \"Test salaries: \", test_salaries.shape\n",
    "print x_test_numeric_data.shape"
   ]
  },
  {
   "cell_type": "code",
   "execution_count": 6,
   "metadata": {
    "collapsed": false
   },
   "outputs": [
    {
     "name": "stdout",
     "output_type": "stream",
     "text": [
      "62424910821.6\n",
      "142596.192385\n"
     ]
    }
   ],
   "source": [
    "# Trials with a decision tree regressor\n",
    "\n",
    "clf = tree.DecisionTreeRegressor()\n",
    "clf = clf.fit(x_train_numeric_data[:3000], salaries_train[:3000])\n",
    "\n",
    "predicted_salaries = clf.predict(x_train_numeric_data[3000:])\n",
    "mse = mean_squared_error(salaries_train[3000:], predicted_salaries)\n",
    "mae = mean_absolute_error(salaries_train[3000:], predicted_salaries)\n",
    "\n",
    "print mse\n",
    "print mae\n"
   ]
  },
  {
   "cell_type": "code",
   "execution_count": 10,
   "metadata": {
    "collapsed": false
   },
   "outputs": [
    {
     "name": "stdout",
     "output_type": "stream",
     "text": [
      "25881680164.1\n",
      "103802.633267\n"
     ]
    }
   ],
   "source": [
    "# Trials with a random forest estimator\n",
    "from sklearn.ensemble import RandomForestRegressor\n",
    "\n",
    "clf = RandomForestRegressor(n_estimators=500)\n",
    "clf = clf.fit(x_train_numeric_data[:3000], salaries_train[:3000])\n",
    "\n",
    "predicted_salaries = clf.predict(x_train_numeric_data[3000:])\n",
    "mse = mean_squared_error(salaries_train[3000:], predicted_salaries)\n",
    "mae = mean_absolute_error(salaries_train[3000:], predicted_salaries)\n",
    "\n",
    "print mse\n",
    "print mae"
   ]
  }
 ],
 "metadata": {
  "kernelspec": {
   "display_name": "Python 2",
   "language": "python",
   "name": "python2"
  },
  "language_info": {
   "codemirror_mode": {
    "name": "ipython",
    "version": 2
   },
   "file_extension": ".py",
   "mimetype": "text/x-python",
   "name": "python",
   "nbconvert_exporter": "python",
   "pygments_lexer": "ipython2",
   "version": "2.7.11"
  }
 },
 "nbformat": 4,
 "nbformat_minor": 0
}
