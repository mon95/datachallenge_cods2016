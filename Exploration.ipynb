{
 "cells": [
  {
   "cell_type": "code",
   "execution_count": 272,
   "metadata": {
    "collapsed": true
   },
   "outputs": [],
   "source": [
    "import matplotlib.pyplot as plt\n",
    "import matplotlib.pylab as P\n",
    "import pandas as pd\n",
    "import numpy as np"
   ]
  },
  {
   "cell_type": "code",
   "execution_count": 273,
   "metadata": {
    "collapsed": true
   },
   "outputs": [],
   "source": [
    "# Custom function to make graphs simple and pretty\n",
    "\n",
    "%matplotlib inline\n",
    "\n",
    "#tell pandas to display wide tables as pretty HTML tables\n",
    "pd.set_option('display.width', 500)\n",
    "pd.set_option('display.max_columns', 100)\n",
    "\n",
    "#--------------------------To remove borders from the matplotlib plots-------------------------\n",
    "def remove_border(axes=None, top=False, right=False, left=True, bottom=True):\n",
    "    \"\"\"\n",
    "    Minimize chartjunk by stripping out unnecesasry plot borders and axis ticks\n",
    "    \n",
    "    The top/right/left/bottom keywords toggle whether the corresponding plot border is drawn\n",
    "    \"\"\"\n",
    "    ax = axes or plt.gca()\n",
    "    ax.spines['top'].set_visible(top)\n",
    "    ax.spines['right'].set_visible(right)\n",
    "    ax.spines['left'].set_visible(left)\n",
    "    ax.spines['bottom'].set_visible(bottom)\n",
    "    \n",
    "    #turn off all ticks\n",
    "    ax.yaxis.set_ticks_position('none')\n",
    "    ax.xaxis.set_ticks_position('none')\n",
    "    \n",
    "    #now re-enable visibles\n",
    "    if top:\n",
    "        ax.xaxis.tick_top()\n",
    "    if bottom:\n",
    "        ax.xaxis.tick_bottom()\n",
    "    if left:\n",
    "        ax.yaxis.tick_left()\n",
    "    if right:\n",
    "        ax.yaxis.tick_right"
   ]
  },
  {
   "cell_type": "code",
   "execution_count": 274,
   "metadata": {
    "collapsed": true
   },
   "outputs": [],
   "source": [
    "train  = pd.read_excel('train.xlsx')"
   ]
  },
  {
   "cell_type": "code",
   "execution_count": 275,
   "metadata": {
    "collapsed": false
   },
   "outputs": [
    {
     "name": "stdout",
     "output_type": "stream",
     "text": [
      "Number of rows: 3998\n"
     ]
    },
    {
     "data": {
      "text/html": [
       "<div>\n",
       "<table border=\"1\" class=\"dataframe\">\n",
       "  <thead>\n",
       "    <tr style=\"text-align: right;\">\n",
       "      <th></th>\n",
       "      <th>ID</th>\n",
       "      <th>Salary</th>\n",
       "      <th>DOJ</th>\n",
       "      <th>DOL</th>\n",
       "      <th>Designation</th>\n",
       "      <th>JobCity</th>\n",
       "      <th>Gender</th>\n",
       "      <th>DOB</th>\n",
       "      <th>10percentage</th>\n",
       "      <th>10board</th>\n",
       "      <th>12graduation</th>\n",
       "      <th>12percentage</th>\n",
       "      <th>12board</th>\n",
       "      <th>CollegeID</th>\n",
       "      <th>CollegeTier</th>\n",
       "      <th>Degree</th>\n",
       "      <th>Specialization</th>\n",
       "      <th>collegeGPA</th>\n",
       "      <th>CollegeCityID</th>\n",
       "      <th>CollegeCityTier</th>\n",
       "      <th>CollegeState</th>\n",
       "      <th>GraduationYear</th>\n",
       "      <th>English</th>\n",
       "      <th>Logical</th>\n",
       "      <th>Quant</th>\n",
       "      <th>Domain</th>\n",
       "      <th>ComputerProgramming</th>\n",
       "      <th>ElectronicsAndSemicon</th>\n",
       "      <th>ComputerScience</th>\n",
       "      <th>MechanicalEngg</th>\n",
       "      <th>ElectricalEngg</th>\n",
       "      <th>TelecomEngg</th>\n",
       "      <th>CivilEngg</th>\n",
       "      <th>conscientiousness</th>\n",
       "      <th>agreeableness</th>\n",
       "      <th>extraversion</th>\n",
       "      <th>nueroticism</th>\n",
       "      <th>openess_to_experience</th>\n",
       "    </tr>\n",
       "  </thead>\n",
       "  <tbody>\n",
       "    <tr>\n",
       "      <th>train</th>\n",
       "      <td>203097</td>\n",
       "      <td>420000</td>\n",
       "      <td>2012-06-01</td>\n",
       "      <td>present</td>\n",
       "      <td>senior quality engineer</td>\n",
       "      <td>Bangalore</td>\n",
       "      <td>f</td>\n",
       "      <td>1990-02-19</td>\n",
       "      <td>84.3</td>\n",
       "      <td>board ofsecondary education,ap</td>\n",
       "      <td>2007</td>\n",
       "      <td>95.8</td>\n",
       "      <td>board of intermediate education,ap</td>\n",
       "      <td>1141</td>\n",
       "      <td>2</td>\n",
       "      <td>B.Tech/B.E.</td>\n",
       "      <td>computer engineering</td>\n",
       "      <td>78.00</td>\n",
       "      <td>1141</td>\n",
       "      <td>0</td>\n",
       "      <td>Andhra Pradesh</td>\n",
       "      <td>2011</td>\n",
       "      <td>515</td>\n",
       "      <td>585</td>\n",
       "      <td>525</td>\n",
       "      <td>0.635979</td>\n",
       "      <td>445</td>\n",
       "      <td>-1</td>\n",
       "      <td>-1</td>\n",
       "      <td>-1</td>\n",
       "      <td>-1</td>\n",
       "      <td>-1</td>\n",
       "      <td>-1</td>\n",
       "      <td>0.9737</td>\n",
       "      <td>0.8128</td>\n",
       "      <td>0.5269</td>\n",
       "      <td>1.35490</td>\n",
       "      <td>-0.4455</td>\n",
       "    </tr>\n",
       "    <tr>\n",
       "      <th>train</th>\n",
       "      <td>579905</td>\n",
       "      <td>500000</td>\n",
       "      <td>2013-09-01</td>\n",
       "      <td>present</td>\n",
       "      <td>assistant manager</td>\n",
       "      <td>Indore</td>\n",
       "      <td>m</td>\n",
       "      <td>1989-10-04</td>\n",
       "      <td>85.4</td>\n",
       "      <td>cbse</td>\n",
       "      <td>2007</td>\n",
       "      <td>85.0</td>\n",
       "      <td>cbse</td>\n",
       "      <td>5807</td>\n",
       "      <td>2</td>\n",
       "      <td>B.Tech/B.E.</td>\n",
       "      <td>electronics and communication engineering</td>\n",
       "      <td>70.06</td>\n",
       "      <td>5807</td>\n",
       "      <td>0</td>\n",
       "      <td>Madhya Pradesh</td>\n",
       "      <td>2012</td>\n",
       "      <td>695</td>\n",
       "      <td>610</td>\n",
       "      <td>780</td>\n",
       "      <td>0.960603</td>\n",
       "      <td>-1</td>\n",
       "      <td>466</td>\n",
       "      <td>-1</td>\n",
       "      <td>-1</td>\n",
       "      <td>-1</td>\n",
       "      <td>-1</td>\n",
       "      <td>-1</td>\n",
       "      <td>-0.7335</td>\n",
       "      <td>0.3789</td>\n",
       "      <td>1.2396</td>\n",
       "      <td>-0.10760</td>\n",
       "      <td>0.8637</td>\n",
       "    </tr>\n",
       "    <tr>\n",
       "      <th>train</th>\n",
       "      <td>810601</td>\n",
       "      <td>325000</td>\n",
       "      <td>2014-06-01</td>\n",
       "      <td>present</td>\n",
       "      <td>systems engineer</td>\n",
       "      <td>Chennai</td>\n",
       "      <td>f</td>\n",
       "      <td>1992-08-03</td>\n",
       "      <td>85.0</td>\n",
       "      <td>cbse</td>\n",
       "      <td>2010</td>\n",
       "      <td>68.2</td>\n",
       "      <td>cbse</td>\n",
       "      <td>64</td>\n",
       "      <td>2</td>\n",
       "      <td>B.Tech/B.E.</td>\n",
       "      <td>information technology</td>\n",
       "      <td>70.00</td>\n",
       "      <td>64</td>\n",
       "      <td>0</td>\n",
       "      <td>Uttar Pradesh</td>\n",
       "      <td>2014</td>\n",
       "      <td>615</td>\n",
       "      <td>545</td>\n",
       "      <td>370</td>\n",
       "      <td>0.450877</td>\n",
       "      <td>395</td>\n",
       "      <td>-1</td>\n",
       "      <td>-1</td>\n",
       "      <td>-1</td>\n",
       "      <td>-1</td>\n",
       "      <td>-1</td>\n",
       "      <td>-1</td>\n",
       "      <td>0.2718</td>\n",
       "      <td>1.7109</td>\n",
       "      <td>0.1637</td>\n",
       "      <td>-0.86820</td>\n",
       "      <td>0.6721</td>\n",
       "    </tr>\n",
       "    <tr>\n",
       "      <th>train</th>\n",
       "      <td>267447</td>\n",
       "      <td>1100000</td>\n",
       "      <td>2011-07-01</td>\n",
       "      <td>present</td>\n",
       "      <td>senior software engineer</td>\n",
       "      <td>Gurgaon</td>\n",
       "      <td>m</td>\n",
       "      <td>1989-12-05</td>\n",
       "      <td>85.6</td>\n",
       "      <td>cbse</td>\n",
       "      <td>2007</td>\n",
       "      <td>83.6</td>\n",
       "      <td>cbse</td>\n",
       "      <td>6920</td>\n",
       "      <td>1</td>\n",
       "      <td>B.Tech/B.E.</td>\n",
       "      <td>computer engineering</td>\n",
       "      <td>74.64</td>\n",
       "      <td>6920</td>\n",
       "      <td>1</td>\n",
       "      <td>Delhi</td>\n",
       "      <td>2011</td>\n",
       "      <td>635</td>\n",
       "      <td>585</td>\n",
       "      <td>625</td>\n",
       "      <td>0.974396</td>\n",
       "      <td>615</td>\n",
       "      <td>-1</td>\n",
       "      <td>-1</td>\n",
       "      <td>-1</td>\n",
       "      <td>-1</td>\n",
       "      <td>-1</td>\n",
       "      <td>-1</td>\n",
       "      <td>0.0464</td>\n",
       "      <td>0.3448</td>\n",
       "      <td>-0.3440</td>\n",
       "      <td>-0.40780</td>\n",
       "      <td>-0.9194</td>\n",
       "    </tr>\n",
       "    <tr>\n",
       "      <th>train</th>\n",
       "      <td>343523</td>\n",
       "      <td>200000</td>\n",
       "      <td>2014-03-01</td>\n",
       "      <td>2015-03-01 00:00:00</td>\n",
       "      <td>get</td>\n",
       "      <td>Manesar</td>\n",
       "      <td>m</td>\n",
       "      <td>1991-02-27</td>\n",
       "      <td>78.0</td>\n",
       "      <td>cbse</td>\n",
       "      <td>2008</td>\n",
       "      <td>76.8</td>\n",
       "      <td>cbse</td>\n",
       "      <td>11368</td>\n",
       "      <td>2</td>\n",
       "      <td>B.Tech/B.E.</td>\n",
       "      <td>electronics and communication engineering</td>\n",
       "      <td>73.90</td>\n",
       "      <td>11368</td>\n",
       "      <td>0</td>\n",
       "      <td>Uttar Pradesh</td>\n",
       "      <td>2012</td>\n",
       "      <td>545</td>\n",
       "      <td>625</td>\n",
       "      <td>465</td>\n",
       "      <td>0.124502</td>\n",
       "      <td>-1</td>\n",
       "      <td>233</td>\n",
       "      <td>-1</td>\n",
       "      <td>-1</td>\n",
       "      <td>-1</td>\n",
       "      <td>-1</td>\n",
       "      <td>-1</td>\n",
       "      <td>-0.8810</td>\n",
       "      <td>-0.2793</td>\n",
       "      <td>-1.0697</td>\n",
       "      <td>0.09163</td>\n",
       "      <td>-0.1295</td>\n",
       "    </tr>\n",
       "  </tbody>\n",
       "</table>\n",
       "</div>"
      ],
      "text/plain": [
       "           ID   Salary        DOJ                  DOL               Designation    JobCity Gender        DOB  10percentage                         10board  12graduation  12percentage                             12board  CollegeID  CollegeTier       Degree                             Specialization  collegeGPA  CollegeCityID  CollegeCityTier    CollegeState  GraduationYear  English  Logical  Quant    Domain  ComputerProgramming  ElectronicsAndSemicon  ComputerScience  MechanicalEngg  \\\n",
       "train  203097   420000 2012-06-01              present   senior quality engineer  Bangalore      f 1990-02-19          84.3  board ofsecondary education,ap          2007          95.8  board of intermediate education,ap       1141            2  B.Tech/B.E.                       computer engineering       78.00           1141                0  Andhra Pradesh            2011      515      585    525  0.635979                  445                     -1               -1              -1   \n",
       "train  579905   500000 2013-09-01              present         assistant manager     Indore      m 1989-10-04          85.4                            cbse          2007          85.0                                cbse       5807            2  B.Tech/B.E.  electronics and communication engineering       70.06           5807                0  Madhya Pradesh            2012      695      610    780  0.960603                   -1                    466               -1              -1   \n",
       "train  810601   325000 2014-06-01              present          systems engineer    Chennai      f 1992-08-03          85.0                            cbse          2010          68.2                                cbse         64            2  B.Tech/B.E.                     information technology       70.00             64                0   Uttar Pradesh            2014      615      545    370  0.450877                  395                     -1               -1              -1   \n",
       "train  267447  1100000 2011-07-01              present  senior software engineer    Gurgaon      m 1989-12-05          85.6                            cbse          2007          83.6                                cbse       6920            1  B.Tech/B.E.                       computer engineering       74.64           6920                1           Delhi            2011      635      585    625  0.974396                  615                     -1               -1              -1   \n",
       "train  343523   200000 2014-03-01  2015-03-01 00:00:00                       get    Manesar      m 1991-02-27          78.0                            cbse          2008          76.8                                cbse      11368            2  B.Tech/B.E.  electronics and communication engineering       73.90          11368                0   Uttar Pradesh            2012      545      625    465  0.124502                   -1                    233               -1              -1   \n",
       "\n",
       "       ElectricalEngg  TelecomEngg  CivilEngg  conscientiousness  agreeableness  extraversion  nueroticism  openess_to_experience  \n",
       "train              -1           -1         -1             0.9737         0.8128        0.5269      1.35490                -0.4455  \n",
       "train              -1           -1         -1            -0.7335         0.3789        1.2396     -0.10760                 0.8637  \n",
       "train              -1           -1         -1             0.2718         1.7109        0.1637     -0.86820                 0.6721  \n",
       "train              -1           -1         -1             0.0464         0.3448       -0.3440     -0.40780                -0.9194  \n",
       "train              -1           -1         -1            -0.8810        -0.2793       -1.0697      0.09163                -0.1295  "
      ]
     },
     "execution_count": 275,
     "metadata": {},
     "output_type": "execute_result"
    }
   ],
   "source": [
    "print \"Number of rows: %i\" % train.shape[0]\n",
    "train.head()"
   ]
  },
  {
   "cell_type": "code",
   "execution_count": 276,
   "metadata": {
    "collapsed": false
   },
   "outputs": [
    {
     "data": {
      "text/plain": [
       "array([u'ID', u'Salary', u'DOJ', u'DOL', u'Designation', u'JobCity',\n",
       "       u'Gender', u'DOB', u'10percentage', u'10board', u'12graduation',\n",
       "       u'12percentage', u'12board', u'CollegeID', u'CollegeTier',\n",
       "       u'Degree', u'Specialization', u'collegeGPA', u'CollegeCityID',\n",
       "       u'CollegeCityTier', u'CollegeState', u'GraduationYear', u'English',\n",
       "       u'Logical', u'Quant', u'Domain', u'ComputerProgramming',\n",
       "       u'ElectronicsAndSemicon', u'ComputerScience', u'MechanicalEngg',\n",
       "       u'ElectricalEngg', u'TelecomEngg', u'CivilEngg',\n",
       "       u'conscientiousness', u'agreeableness', u'extraversion',\n",
       "       u'nueroticism', u'openess_to_experience'], dtype=object)"
      ]
     },
     "execution_count": 276,
     "metadata": {},
     "output_type": "execute_result"
    }
   ],
   "source": [
    "train.columns.values"
   ]
  },
  {
   "cell_type": "code",
   "execution_count": 277,
   "metadata": {
    "collapsed": false
   },
   "outputs": [
    {
     "data": {
      "text/plain": [
       "(1350,)"
      ]
     },
     "execution_count": 277,
     "metadata": {},
     "output_type": "execute_result"
    }
   ],
   "source": [
    "colids = pd.unique(train.ix[:,'CollegeID'].values.ravel())\n",
    "colids.shape"
   ]
  },
  {
   "cell_type": "code",
   "execution_count": 278,
   "metadata": {
    "collapsed": false
   },
   "outputs": [
    {
     "data": {
      "text/plain": [
       "count       3998.000000\n",
       "mean      307699.849925\n",
       "std       212737.499957\n",
       "min        35000.000000\n",
       "25%       180000.000000\n",
       "50%       300000.000000\n",
       "75%       370000.000000\n",
       "max      4000000.000000\n",
       "Name: Salary, dtype: float64"
      ]
     },
     "execution_count": 278,
     "metadata": {},
     "output_type": "execute_result"
    }
   ],
   "source": [
    "train['Salary'].describe()"
   ]
  },
  {
   "cell_type": "code",
   "execution_count": 279,
   "metadata": {
    "collapsed": false
   },
   "outputs": [
    {
     "data": {
      "image/png": "[encoded data removed]",
      "text/plain": [
       "<matplotlib.figure.Figure at 0x7eff71b2d810>"
      ]
     },
     "metadata": {},
     "output_type": "display_data"
    }
   ],
   "source": [
    "plt.scatter(train['CollegeID'], train['Salary'], lw=0, alpha=.3, color='r')\n",
    "plt.xlabel(\"CollegeID\")\n",
    "plt.ylabel(\"Salary\")\n",
    "remove_border()"
   ]
  },
  {
   "cell_type": "code",
   "execution_count": 280,
   "metadata": {
    "collapsed": false
   },
   "outputs": [
    {
     "data": {
      "text/plain": [
       "count    3998.000000\n",
       "mean       71.486171\n",
       "std         8.167338\n",
       "min         6.450000\n",
       "25%        66.407500\n",
       "50%        71.720000\n",
       "75%        76.327500\n",
       "max        99.930000\n",
       "Name: collegeGPA, dtype: float64"
      ]
     },
     "execution_count": 280,
     "metadata": {},
     "output_type": "execute_result"
    }
   ],
   "source": [
    "train['collegeGPA'].describe()"
   ]
  },
  {
   "cell_type": "code",
   "execution_count": 281,
   "metadata": {
    "collapsed": false
   },
   "outputs": [
    {
     "name": "stderr",
     "output_type": "stream",
     "text": [
      "/home/priyanka/anaconda/lib/python2.7/site-packages/ipykernel/__main__.py:7: SettingWithCopyWarning: \n",
      "A value is trying to be set on a copy of a slice from a DataFrame\n",
      "\n",
      "See the the caveats in the documentation: http://pandas.pydata.org/pandas-docs/stable/indexing.html#indexing-view-versus-copy\n"
     ]
    },
    {
     "data": {
      "text/plain": [
       "12"
      ]
     },
     "execution_count": 281,
     "metadata": {},
     "output_type": "execute_result"
    }
   ],
   "source": [
    "gpaData = train['collegeGPA']\n",
    "nrows = len(gpaData)\n",
    "count=0\n",
    "i=0\n",
    "while i<nrows:\n",
    "    if (gpaData[i]<=10):\n",
    "        gpaData[i]=gpaData[i]*10\n",
    "        count=count+1\n",
    "    i=i+1\n",
    "count"
   ]
  },
  {
   "cell_type": "code",
   "execution_count": 282,
   "metadata": {
    "collapsed": false
   },
   "outputs": [
    {
     "data": {
      "text/plain": [
       "count    3998.000000\n",
       "mean       71.695728\n",
       "std         7.406631\n",
       "min        49.070000\n",
       "25%        66.505000\n",
       "50%        71.800000\n",
       "75%        76.400000\n",
       "max        99.930000\n",
       "Name: collegeGPA, dtype: float64"
      ]
     },
     "execution_count": 282,
     "metadata": {},
     "output_type": "execute_result"
    }
   ],
   "source": [
    "train['collegeGPA'].describe()"
   ]
  },
  {
   "cell_type": "code",
   "execution_count": 283,
   "metadata": {
    "collapsed": true
   },
   "outputs": [],
   "source": [
    "train['collegeGPA']=train['collegeGPA'].round()"
   ]
  },
  {
   "cell_type": "code",
   "execution_count": 284,
   "metadata": {
    "collapsed": false
   },
   "outputs": [
    {
     "data": {
      "text/plain": [
       "(52,)"
      ]
     },
     "execution_count": 284,
     "metadata": {},
     "output_type": "execute_result"
    }
   ],
   "source": [
    "pd.unique(train['collegeGPA'].values.ravel()).shape"
   ]
  },
  {
   "cell_type": "code",
   "execution_count": 285,
   "metadata": {
    "collapsed": false
   },
   "outputs": [
    {
     "data": {
      "image/png": "[encoded data removed]",
      "text/plain": [
       "<matplotlib.figure.Figure at 0x7eff6bb0c150>"
      ]
     },
     "metadata": {},
     "output_type": "display_data"
    }
   ],
   "source": [
    "plt.scatter(train['collegeGPA'], train['Salary'], lw=0, alpha=.2, color='r')\n",
    "plt.xlabel(\"collegeGPA\")\n",
    "plt.ylabel(\"Salary\")\n",
    "remove_border()"
   ]
  },
  {
   "cell_type": "code",
   "execution_count": 286,
   "metadata": {
    "collapsed": false
   },
   "outputs": [
    {
     "data": {
      "text/plain": [
       "76.0"
      ]
     },
     "execution_count": 286,
     "metadata": {},
     "output_type": "execute_result"
    }
   ],
   "source": [
    "gpaData[5]"
   ]
  },
  {
   "cell_type": "code",
   "execution_count": 287,
   "metadata": {
    "collapsed": false
   },
   "outputs": [
    {
     "name": "stderr",
     "output_type": "stream",
     "text": [
      "/home/priyanka/anaconda/lib/python2.7/site-packages/ipykernel/__main__.py:4: SettingWithCopyWarning: \n",
      "A value is trying to be set on a copy of a slice from a DataFrame.\n",
      "Try using .loc[row_indexer,col_indexer] = value instead\n",
      "\n",
      "See the the caveats in the documentation: http://pandas.pydata.org/pandas-docs/stable/indexing.html#indexing-view-versus-copy\n"
     ]
    },
    {
     "data": {
      "text/html": [
       "<div>\n",
       "<table border=\"1\" class=\"dataframe\">\n",
       "  <thead>\n",
       "    <tr style=\"text-align: right;\">\n",
       "      <th></th>\n",
       "      <th>collegeGPA</th>\n",
       "      <th>Salary</th>\n",
       "      <th>GPArange</th>\n",
       "    </tr>\n",
       "  </thead>\n",
       "  <tbody>\n",
       "    <tr>\n",
       "      <th>train</th>\n",
       "      <td>78</td>\n",
       "      <td>420000</td>\n",
       "      <td>70</td>\n",
       "    </tr>\n",
       "    <tr>\n",
       "      <th>train</th>\n",
       "      <td>70</td>\n",
       "      <td>500000</td>\n",
       "      <td>70</td>\n",
       "    </tr>\n",
       "    <tr>\n",
       "      <th>train</th>\n",
       "      <td>70</td>\n",
       "      <td>325000</td>\n",
       "      <td>70</td>\n",
       "    </tr>\n",
       "    <tr>\n",
       "      <th>train</th>\n",
       "      <td>75</td>\n",
       "      <td>1100000</td>\n",
       "      <td>70</td>\n",
       "    </tr>\n",
       "    <tr>\n",
       "      <th>train</th>\n",
       "      <td>74</td>\n",
       "      <td>200000</td>\n",
       "      <td>70</td>\n",
       "    </tr>\n",
       "  </tbody>\n",
       "</table>\n",
       "</div>"
      ],
      "text/plain": [
       "       collegeGPA   Salary  GPArange\n",
       "train          78   420000        70\n",
       "train          70   500000        70\n",
       "train          70   325000        70\n",
       "train          75  1100000        70\n",
       "train          74   200000        70"
      ]
     },
     "execution_count": 287,
     "metadata": {},
     "output_type": "execute_result"
    }
   ],
   "source": [
    "GPArange =  (train['collegeGPA'] // 10) * 10\n",
    "\n",
    "tyd = train[['collegeGPA', 'Salary']]\n",
    "tyd['GPArange'] = GPArange\n",
    "\n",
    "tyd.head()"
   ]
  },
  {
   "cell_type": "code",
   "execution_count": 288,
   "metadata": {
    "collapsed": false
   },
   "outputs": [
    {
     "data": {
      "text/plain": [
       "array([  70.,   80.,   60.,   50.,   90.,  100.,   40.])"
      ]
     },
     "execution_count": 288,
     "metadata": {},
     "output_type": "execute_result"
    }
   ],
   "source": [
    "pd.unique(tyd['GPArange'].values.ravel())"
   ]
  },
  {
   "cell_type": "code",
   "execution_count": 289,
   "metadata": {
    "collapsed": false
   },
   "outputs": [
    {
     "data": {
      "image/png": "[encoded data removed]",
      "text/plain": [
       "<matplotlib.figure.Figure at 0x7eff71ab41d0>"
      ]
     },
     "metadata": {},
     "output_type": "display_data"
    }
   ],
   "source": [
    "# a bar plot with errorbars\n",
    "import numpy as np\n",
    "import matplotlib.pyplot as plt\n",
    "\n",
    "N = 6\n",
    "menMeans = (20, 35, 30, 35, 27, 32)\n",
    "\n",
    "ind = np.arange(N)  # the x locations for the groups\n",
    "width = 0.15       # the width of the bars\n",
    "\n",
    "fig, ax = plt.subplots()\n",
    "rects1 = ax.bar(ind*0.20, menMeans, width, color='r')\n",
    "\n",
    "# add some text for labels, title and axes ticks\n",
    "ax.set_ylabel('Scores')\n",
    "ax.set_title('Scores by group for men')\n",
    "ax.set_xticks(ind*0.20)\n",
    "ax.set_xticklabels(('G1', 'G2', 'G3', 'G4', 'G5','G6'))\n",
    "\n",
    "plt.show()"
   ]
  },
  {
   "cell_type": "code",
   "execution_count": 290,
   "metadata": {
    "collapsed": false
   },
   "outputs": [
    {
     "data": {
      "text/plain": [
       "(419,)"
      ]
     },
     "execution_count": 290,
     "metadata": {},
     "output_type": "execute_result"
    }
   ],
   "source": [
    "pd.unique(train['Designation'].values.ravel()).shape"
   ]
  },
  {
   "cell_type": "code",
   "execution_count": 291,
   "metadata": {
    "collapsed": false
   },
   "outputs": [
    {
     "data": {
      "text/plain": [
       "(339,)"
      ]
     },
     "execution_count": 291,
     "metadata": {},
     "output_type": "execute_result"
    }
   ],
   "source": [
    "pd.unique(train['JobCity'].values.ravel()).shape"
   ]
  },
  {
   "cell_type": "code",
   "execution_count": 292,
   "metadata": {
    "collapsed": false
   },
   "outputs": [
    {
     "data": {
      "text/plain": [
       "array([u'senior quality engineer', u'assistant manager',\n",
       "       u'systems engineer', u'senior software engineer', u'get',\n",
       "       u'system engineer', u'java software engineer',\n",
       "       u'mechanical engineer', u'electrical engineer', u'project engineer',\n",
       "       u'senior php developer', u'senior systems engineer',\n",
       "       u'quality assurance engineer', u'qa analyst', u'network engineer',\n",
       "       u'product development engineer', u'associate software developer',\n",
       "       u'data entry operator', u'software engineer', u'developer',\n",
       "       u'electrical project engineer', u'programmer analyst',\n",
       "       u'systems analyst', u'ase', u'telecommunication engineer',\n",
       "       u'application developer', u'ios developer', u'executive assistant',\n",
       "       u'online marketing manager', u'documentation specialist',\n",
       "       u'associate software engineer', u'management trainee',\n",
       "       u'site manager', u'software developer', u'.net developer',\n",
       "       u'production engineer', u'jr. software engineer',\n",
       "       u'trainee software developer', u'ui developer',\n",
       "       u'assistant system engineer', u'android developer',\n",
       "       u'customer service', u'test engineer', u'java developer',\n",
       "       u'engineer', u'recruitment coordinator',\n",
       "       u'technical support engineer', u'data analyst',\n",
       "       u'assistant software engineer', u'faculty',\n",
       "       u'entry level management trainee',\n",
       "       u'customer service representative', u'software test engineer',\n",
       "       u'firmware engineer', u'php developer', u'research associate',\n",
       "       u'research analyst', u'quality engineer', u'programmer',\n",
       "       u'technical support executive', u'business analyst',\n",
       "       u'web developer', u'application engineer', u'project coordinator',\n",
       "       u'engineer trainee', u'sap consultant', u'quality analyst',\n",
       "       u'marketing coordinator', u'system administrator',\n",
       "       u'senior engineer', u'business development managerde',\n",
       "       u'network administrator', u'technical support specialist',\n",
       "       u'business development executive', u'junior software engineer',\n",
       "       u'asp.net developer', u'graduate engineer trainee',\n",
       "       u'field engineer', u'assistant professor',\n",
       "       u'trainee software engineer', u'senior software developer',\n",
       "       u'quality assurance automation engineer', u'design engineer',\n",
       "       u'telecom engineer', u'quality control engineer',\n",
       "       u'hardware engineer', u'hr recruiter', u'sales associate',\n",
       "       u'junior engineer', u'associate engineer', u'maintenance engineer',\n",
       "       u'sales engineer', u'human resources associate',\n",
       "       u'mobile application developer',\n",
       "       u'electronic field service engineer', u'process associate',\n",
       "       u'field service engineer', u'it support specialist',\n",
       "       u'software development engineer', u'business process analyst',\n",
       "       u'operation engineer', u'electrical designer',\n",
       "       u'marketing assistant', u'sales executive', u'admin assistant',\n",
       "       u'senior java developer', u'account executive', u'oracle dba',\n",
       "       u'rf engineer', u'embedded software engineer',\n",
       "       u'programmer analyst trainee', u'technical engineer',\n",
       "       u'operations executive', u'trainee engineer', u'recruiter',\n",
       "       u'lecturer', u'.net web developer', u'marketing executive',\n",
       "       u'operations assistant', u'associate manager',\n",
       "       u'electrical design engineer', u'systems administrator',\n",
       "       u'client services associate', u'it analyst', u'senior developer',\n",
       "       u'cad designer', u'business technology analyst', u'asst. manager',\n",
       "       u'service engineer', u'executive recruiter', u'planning engineer',\n",
       "       u'associate technical operations', u'web designer',\n",
       "       u'software architect', u'software quality assurance tester',\n",
       "       u'seo trainee', u'process engineer',\n",
       "       u'software quality assurance analyst', u'designer',\n",
       "       u'business systems consultant', u'business development manager',\n",
       "       u'junior research fellow', u'technical recruiter',\n",
       "       u'operations analyst', u'quality assurance test engineer',\n",
       "       u'linux systems administrator', u'software trainee',\n",
       "       u'entry level sales and marketing', u'electrical field engineer',\n",
       "       u'windows systems administrator', u'junior software developer',\n",
       "       u'python developer', u'web application developer',\n",
       "       u'assistant systems engineer', u'javascript developer',\n",
       "       u'operation executive', u'performance engineer',\n",
       "       u'technical writer', u'operations engineer and jetty handling',\n",
       "       u'lead engineer', u'portfolio analyst',\n",
       "       u'associate system engineer', u'mechanical design engineer',\n",
       "       u'product engineer', u'network security engineer',\n",
       "       u'operations manager', u'technical lead', u'operations',\n",
       "       u'quality assurance tester', u'automation engineer',\n",
       "       u'data scientist', u'quality associate', u'manual tester',\n",
       "       u'sr. engineer', u'embedded engineer',\n",
       "       u'service and sales engineer', u'telecom support engineer',\n",
       "       u'engineer- customer support', u'cloud engineer', u'branch manager',\n",
       "       u'business analyst consultant', u'technology lead',\n",
       "       u'software trainee engineer', u'dcs engineer', u'junior manager',\n",
       "       u'ux designer', u'clerical', u'hr generalist',\n",
       "       u'database administrator', u'senior design engineer', u'seo',\n",
       "       u'assistant engineer', u'marketing analyst', u'it executive',\n",
       "       u'salesforce developer', u'software tester', u'sql dba',\n",
       "       u'junior engineer product support', u'manager',\n",
       "       u'senior business analyst', u'c# developer',\n",
       "       u'implementation engineer', u'executive hr', u'executive engineer',\n",
       "       u'sharepoint developer', u'system analyst',\n",
       "       u'sales management trainee', u'senior project engineer',\n",
       "       u'it recruiter', u'software engineer analyst',\n",
       "       u'desktop support technician', u'continuous improvement engineer',\n",
       "       u'process advisor', u'etl developer', u'sales and service engineer',\n",
       "       u'project manager', u'training specialist', u'product manager',\n",
       "       u'staffing recruiter', u'assistant programmer',\n",
       "       u'quality controller', u'mis executive', u'game developer',\n",
       "       u'digital marketing specialist', u'principal software engineer',\n",
       "       u'software devloper', u'senior mechanical engineer',\n",
       "       u'technical operations analyst', u'service coordinator',\n",
       "       u'testing engineer', u'technical assistant', u'sap abap consultant',\n",
       "       u'seo engineer', u'project assistant',\n",
       "       u'talent acquisition specialist', u'sales account manager',\n",
       "       u'software engineer trainee', u'customer service manager',\n",
       "       u'help desk analyst', u'general manager', u'engineering manager',\n",
       "       u'senior network engineer',\n",
       "       u'field based employee relations manager', u'phone banking officer',\n",
       "       u'support engineer', u'associate test engineer',\n",
       "       u'technology analyst', u'network support engineer',\n",
       "       u'it business analyst', u'junior system analyst',\n",
       "       u'senior .net developer', u'secretary', u'research engineer',\n",
       "       u'quality assurance auditor', u'process executive',\n",
       "       u'lecturer & electrical maintenance', u'office coordinator',\n",
       "       u'hr manager', u'html developer', u'sales support',\n",
       "       u'front end web developer', u'administrative support',\n",
       "       u'territory sales manager', u'project administrator',\n",
       "       u'environmental engineer', u'web designer and seo',\n",
       "       u'information security analyst',\n",
       "       u'field business development associate', u'operational executive',\n",
       "       u'administrative coordinator', u'senior risk consultant',\n",
       "       u'desktop support engineer', u'cad drafter', u'noc engineer',\n",
       "       u'industrial engineer', u'it engineer', u'human resources intern',\n",
       "       u'senior quality assurance engineer', u'clerical assistant',\n",
       "       u'software enginner', u'quality assurance',\n",
       "       u'delivery software engineer', u'graphic designer',\n",
       "       u'sales development manager', u'visiting faculty',\n",
       "       u'business intelligence analyst', u'team lead',\n",
       "       u'operational excellence manager', u'sales & service engineer',\n",
       "       u'web intern', u'full stack developer', u'database developer',\n",
       "       u'sr. database engineer', u'graduate apprentice trainee',\n",
       "       u'software engineer associate', u'technical analyst',\n",
       "       u'executive engg', u'it technician', u'business system analyst',\n",
       "       u'process control engineer', u'technical consultant',\n",
       "       u'business office manager', u'quality control inspector',\n",
       "       u'product design engineer', u'manufacturing engineer',\n",
       "       u'seo executive', u'sap analyst', u'software engineere',\n",
       "       u'financial service consultant', u'co faculty', u'software analyst',\n",
       "       u'desktop support analyst', u'graduate engineer',\n",
       "       u'engineering technician', u'it assistant', u'marketing manager',\n",
       "       u'human resource assistant', u'hr assistant', u'product developer',\n",
       "       u'customer support engineer',\n",
       "       u'quality control inspection technician', u'gis/cad engineer',\n",
       "       u'senior web developer', u'sql developer', u'research staff member',\n",
       "       u'sap abap associate consultant', u'associate qa',\n",
       "       u'corporate recruiter', u'project management officer',\n",
       "       u'business systems analyst', u'software programmer',\n",
       "       u'help desk technician', u'sales manager', u'catalog associate',\n",
       "       u'assistant store manager', u'software engg', u'it developer',\n",
       "       u'apprentice', u'business consultant', u'controls engineer',\n",
       "       u'ruby on rails developer', u'risk consultant', u'account manager',\n",
       "       u'professor', u'assistant administrator', u'civil engineer',\n",
       "       u'educator', u'service manager', u'teradata dba',\n",
       "       u'full-time loss prevention associate', u'junior recruiter',\n",
       "       u'associate developer', u'assistant electrical engineer',\n",
       "       u'shift engineer', u'dotnet developer', u'rf/dt engineer',\n",
       "       u'human resources analyst', u'software test engineerte',\n",
       "       u'junior .net developer', u'java trainee',\n",
       "       u'maintenance supervisor', u'r&d engineer', u'front end developer',\n",
       "       u'engineer-hws', u'operations engineer', u'senior research fellow',\n",
       "       u'web designer and joomla administrator',\n",
       "       u'enterprise solutions developer',\n",
       "       u'information technology specialist', u'site engineer',\n",
       "       u'graduate trainee engineer', u'quality assurance analyst',\n",
       "       u'cnc programmer', u'financial analyst', u'system engineer trainee',\n",
       "       u'sap mm consultant', u'assistant system engineer trainee',\n",
       "       u'qa trainee', u'teradata developer', u'hr executive',\n",
       "       u'senior programmer', u'software test engineer (etl)',\n",
       "       u'associate software engg', u'supply chain analyst',\n",
       "       u'sales trainer', u'software executive', u'team leader',\n",
       "       u'assistant system engineer - trainee', u'seo analyst',\n",
       "       u'risk investigator', u'executive administrative assistant',\n",
       "       u'program manager', u'r & d', u'sap functional consultant',\n",
       "       u'website developer/tester', u'software designer',\n",
       "       u'sales coordinator', u'qa engineer', u'aircraft technician',\n",
       "       u'customer care executive', u'senior test engineer',\n",
       "       u'program analyst trainee', u'electrical controls engineer',\n",
       "       u'trainee decision scientist', u'editor', u'bss engineer', u'dba',\n",
       "       u'software eng', u'computer faculty', u'recruitment associate',\n",
       "       u'logistics executive', u'quality consultant',\n",
       "       u'senior sales executive', u'db2 dba', u'test technician',\n",
       "       u'it operations associate', u'software engineering associate',\n",
       "       u'research scientist', u'jr. software developer'], dtype=object)"
      ]
     },
     "execution_count": 292,
     "metadata": {},
     "output_type": "execute_result"
    }
   ],
   "source": [
    "pd.unique(train['Designation'].values.ravel())"
   ]
  },
  {
   "cell_type": "code",
   "execution_count": 293,
   "metadata": {
    "collapsed": false
   },
   "outputs": [
    {
     "data": {
      "text/plain": [
       "(2,)"
      ]
     },
     "execution_count": 293,
     "metadata": {},
     "output_type": "execute_result"
    }
   ],
   "source": [
    "pd.unique(train['Gender'].values.ravel()).shape"
   ]
  },
  {
   "cell_type": "code",
   "execution_count": 294,
   "metadata": {
    "collapsed": false
   },
   "outputs": [
    {
     "data": {
      "text/plain": [
       "array([u'B.Tech/B.E.', u'MCA', u'M.Tech./M.E.', u'M.Sc. (Tech.)'], dtype=object)"
      ]
     },
     "execution_count": 294,
     "metadata": {},
     "output_type": "execute_result"
    }
   ],
   "source": [
    "pd.unique(train['Degree'].values.ravel())"
   ]
  },
  {
   "cell_type": "code",
   "execution_count": 295,
   "metadata": {
    "collapsed": false
   },
   "outputs": [
    {
     "data": {
      "text/plain": [
       "array([u'computer engineering',\n",
       "       u'electronics and communication engineering',\n",
       "       u'information technology', u'computer science & engineering',\n",
       "       u'mechanical engineering',\n",
       "       u'electronics and electrical engineering',\n",
       "       u'electronics & telecommunications',\n",
       "       u'instrumentation and control engineering', u'computer application',\n",
       "       u'electronics and computer engineering', u'electrical engineering',\n",
       "       u'applied electronics and instrumentation',\n",
       "       u'electronics & instrumentation eng',\n",
       "       u'information science engineering', u'civil engineering',\n",
       "       u'mechanical and automation',\n",
       "       u'industrial & production engineering',\n",
       "       u'control and instrumentation engineering',\n",
       "       u'metallurgical engineering',\n",
       "       u'electronics and instrumentation engineering',\n",
       "       u'electronics engineering', u'ceramic engineering',\n",
       "       u'chemical engineering', u'aeronautical engineering', u'other',\n",
       "       u'biotechnology', u'embedded systems technology',\n",
       "       u'electrical and power engineering',\n",
       "       u'computer science and technology', u'mechatronics',\n",
       "       u'automobile/automotive engineering', u'polymer technology',\n",
       "       u'mechanical & production engineering',\n",
       "       u'power systems and automation', u'instrumentation engineering',\n",
       "       u'telecommunication engineering',\n",
       "       u'industrial & management engineering', u'industrial engineering',\n",
       "       u'computer and communication engineering',\n",
       "       u'information & communication technology', u'information science',\n",
       "       u'internal combustion engine', u'computer networking',\n",
       "       u'biomedical engineering', u'electronics', u'computer science'], dtype=object)"
      ]
     },
     "execution_count": 295,
     "metadata": {},
     "output_type": "execute_result"
    }
   ],
   "source": [
    "pd.unique(train['Specialization'].values.ravel())"
   ]
  },
  {
   "cell_type": "code",
   "execution_count": 296,
   "metadata": {
    "collapsed": false
   },
   "outputs": [
    {
     "data": {
      "text/plain": [
       "count                                          3998\n",
       "unique                                           46\n",
       "top       electronics and communication engineering\n",
       "freq                                            880\n",
       "Name: Specialization, dtype: object"
      ]
     },
     "execution_count": 296,
     "metadata": {},
     "output_type": "execute_result"
    }
   ],
   "source": [
    "train['Specialization'].describe()"
   ]
  },
  {
   "cell_type": "code",
   "execution_count": 297,
   "metadata": {
    "collapsed": false
   },
   "outputs": [
    {
     "data": {
      "text/plain": [
       "count     3998\n",
       "unique       2\n",
       "top          m\n",
       "freq      3041\n",
       "Name: Gender, dtype: object"
      ]
     },
     "execution_count": 297,
     "metadata": {},
     "output_type": "execute_result"
    }
   ],
   "source": [
    "train['Gender'].describe()"
   ]
  },
  {
   "cell_type": "code",
   "execution_count": 298,
   "metadata": {
    "collapsed": false
   },
   "outputs": [
    {
     "data": {
      "text/plain": [
       "count          3998\n",
       "unique          339\n",
       "top       Bangalore\n",
       "freq            627\n",
       "Name: JobCity, dtype: object"
      ]
     },
     "execution_count": 298,
     "metadata": {},
     "output_type": "execute_result"
    }
   ],
   "source": [
    "train['JobCity'].describe()"
   ]
  },
  {
   "cell_type": "code",
   "execution_count": 299,
   "metadata": {
    "collapsed": false
   },
   "outputs": [
    {
     "data": {
      "text/plain": [
       "count                  3998\n",
       "unique                  419\n",
       "top       software engineer\n",
       "freq                    539\n",
       "Name: Designation, dtype: object"
      ]
     },
     "execution_count": 299,
     "metadata": {},
     "output_type": "execute_result"
    }
   ],
   "source": [
    "train['Designation'].describe()"
   ]
  },
  {
   "cell_type": "code",
   "execution_count": 300,
   "metadata": {
    "collapsed": false
   },
   "outputs": [
    {
     "name": "stdout",
     "output_type": "stream",
     "text": [
      "computer engineering\n",
      "computer science & engineering\n",
      "computer application\n",
      "electronics and computer engineering\n",
      "computer science and technology\n",
      "computer and communication engineering\n",
      "computer networking\n",
      "computer science\n"
     ]
    }
   ],
   "source": [
    "csList=[]\n",
    "for word in pd.unique(train['Specialization'].values.ravel()):\n",
    "    if (word.find(\"computer\")!= -1):\n",
    "        print(word)\n",
    "        csList.append(word)"
   ]
  },
  {
   "cell_type": "code",
   "execution_count": 301,
   "metadata": {
    "collapsed": false
   },
   "outputs": [
    {
     "data": {
      "text/plain": [
       "[u'computer engineering',\n",
       " u'computer science & engineering',\n",
       " u'computer application',\n",
       " u'electronics and computer engineering',\n",
       " u'computer science and technology',\n",
       " u'computer and communication engineering',\n",
       " u'computer networking',\n",
       " u'computer science']"
      ]
     },
     "execution_count": 301,
     "metadata": {},
     "output_type": "execute_result"
    }
   ],
   "source": [
    "csList"
   ]
  },
  {
   "cell_type": "code",
   "execution_count": 302,
   "metadata": {
    "collapsed": false
   },
   "outputs": [
    {
     "name": "stdout",
     "output_type": "stream",
     "text": [
      "1601\n"
     ]
    }
   ],
   "source": [
    "count = 0\n",
    "for word in train['Specialization']:\n",
    "    if (word in csList):\n",
    "        count = count + 1\n",
    "print(count)"
   ]
  },
  {
   "cell_type": "code",
   "execution_count": 303,
   "metadata": {
    "collapsed": false
   },
   "outputs": [
    {
     "data": {
      "image/png": "[encoded data removed]",
      "text/plain": [
       "<matplotlib.figure.Figure at 0x7eff71c8ec90>"
      ]
     },
     "metadata": {},
     "output_type": "display_data"
    }
   ],
   "source": [
    "fig, axes = plt.subplots(nrows=1, ncols=1,figsize=(15,5))\n",
    "\n",
    "train[train['Specialization'] == ('computer engineering' or 'computer science & engineering' or \n",
    "'computer application' or 'electronics and computer engineering' or 'computer science and technology' or \n",
    "'computer and communication engineering' or 'computer networking' \n",
    "or 'computer science')]['JobCity'].value_counts()[:10].plot(kind=\"bar\", color='chartreuse')\n",
    "plt.ylim([0,150])\n",
    "axes.set_xlabel('City')\n",
    "axes.set_title('Computer science related specializations')\n",
    "remove_border()"
   ]
  },
  {
   "cell_type": "code",
   "execution_count": 304,
   "metadata": {
    "collapsed": false
   },
   "outputs": [
    {
     "data": {
      "text/plain": [
       "array([u'Bangalore', u'Indore', u'Chennai', u'Gurgaon', u'Manesar',\n",
       "       u'Hyderabad', u'Banglore', u'Noida', u'Kolkata', u'Pune', -1,\n",
       "       u'mohali', u'Jhansi', u'Delhi', u'Hyderabad ', u'Bangalore ',\n",
       "       u'noida', u'delhi', u'Bhubaneswar', u'Navi Mumbai', u'Mumbai',\n",
       "       u'New Delhi', u'Mangalore', u'Rewari', u'Gaziabaad', u'Bhiwadi',\n",
       "       u'Mysore', u'Rajkot', u'Greater Noida', u'Jaipur', u'noida ',\n",
       "       u'HYDERABAD', u'mysore', u'THANE', u'Maharajganj',\n",
       "       u'Thiruvananthapuram', u'Punchkula', u'Bhubaneshwar', u'Pune ',\n",
       "       u'coimbatore', u'Dhanbad', u'Lucknow', u'Trivandrum', u'kolkata',\n",
       "       u'mumbai', u'Gandhi Nagar', u'Una', u'Daman and Diu', u'chennai',\n",
       "       u'GURGOAN', u'vsakhapttnam', u'pune', u'Nagpur', u'Bhagalpur',\n",
       "       u'new delhi - jaisalmer', u'Coimbatore', u'Ahmedabad',\n",
       "       u'Kochi/Cochin', u'Bankura', u'Bengaluru', u'Mysore ', u'Kanpur ',\n",
       "       u'jaipur', u'Gurgaon ', u'bangalore', u'CHENNAI', u'Vijayawada',\n",
       "       u'Kochi', u'Beawar', u'Alwar', u'NOIDA', u'Greater noida',\n",
       "       u'Siliguri ', u'raipur', u'gurgaon', u'Bhopal', u'Faridabad',\n",
       "       u'Jodhpur', u'udaipur', u'Muzaffarpur', u'Kolkata`',\n",
       "       u'Bulandshahar', u'Haridwar', u'Raigarh', u'Visakhapatnam',\n",
       "       u'Jabalpur', u'hyderabad', u'Unnao', u'KOLKATA', u'Thane',\n",
       "       u'Aurangabad', u'Belgaum', u'gurgoan', u'Dehradun', u'Rudrapur',\n",
       "       u'Jamshedpur', u'vizag', u'Nouda', u'Dharamshala', u'Banagalore',\n",
       "       u'Hissar', u'Ranchi', u'BANGALORE', u'Madurai', u'Gurga',\n",
       "       u'Chandigarh', u'Australia', u' Chennai', u'CHEYYAR', u'Mumbai ',\n",
       "       u'sonepat', u'Ghaziabad', u'Pantnagar', u'Siliguri', u'mumbai ',\n",
       "       u'Jagdalpur', u'Chennai ', u'angul', u'Baroda', u' ariyalur',\n",
       "       u'Jowai', u'Kochi/Cochin, Chennai and Coimbatore', u'bhubaneswar',\n",
       "       u'Neemrana', u'VIZAG', u'Tirupathi', u'Lucknow ', u'Ahmedabad ',\n",
       "       u'Bhubneshwar', u'Noida ', u'pune ', u'Calicut', u'Gandhinagar',\n",
       "       u'LUCKNOW', u'Dubai', u'bengaluru', u'MUMBAI', u'Ahmednagar',\n",
       "       u'Nashik', u'New delhi', u'Bellary', u'Ludhiana', u'New Delhi ',\n",
       "       u'Muzaffarnagar', u'BHOPAL', u'Gurgoan', u'Gagret',\n",
       "       u'Indirapuram, Ghaziabad', u'Gwalior', u'new delhi', u'TRIVANDRUM',\n",
       "       u'Chennai & Mumbai', u'Rajasthan', u'Sonipat', u'Bareli', u'Kanpur',\n",
       "       u'Hospete', u'Miryalaguda', u' mumbai', u'Dharuhera', u'lucknow',\n",
       "       u'meerut', u'dehradun', u'Ganjam', u'Hubli', u'bangalore ',\n",
       "       u'NAVI MUMBAI', u'ncr', u'Agra', u'Trichy', u'kudankulam ,tarapur',\n",
       "       u'Ongole', u'Sambalpur', u'Pondicherry', u'Bundi',\n",
       "       u'SADULPUR,RAJGARH,DISTT-CHURU,RAJASTHAN', u'AM', u'Bikaner',\n",
       "       u'Vadodara', u'BAngalore', u'india', u'Asansol', u'Tirunelvelli',\n",
       "       u'Ernakulam', u'DELHI', u'Bilaspur', u'Chandrapur', u'Nanded',\n",
       "       u'Dharmapuri', u'Vandavasi', u'Rohtak', u'trivandrum', u'Nagpur ',\n",
       "       u'Udaipur', u'Patna', u'banglore', u'indore', u'Salem',\n",
       "       u'Nasikcity', u'Gandhinagar ', u'Technopark, Trivandrum',\n",
       "       u'Bharuch', u'Tornagallu', u'Raipur', u'Kolkata ', u'Jaspur',\n",
       "       u'Burdwan', u'Bhubaneswar ', u'Shimla', u'ahmedabad', u'Gajiabaad',\n",
       "       u'Jammu', u'Shahdol', u'Muvattupuzha', u'Al Jubail,Saudi Arabia',\n",
       "       u'Kalmar, Sweden', u'Secunderabad', u'A-64,sec-64,noida',\n",
       "       u'Ratnagiri', u'Jhajjar', u'Gulbarga', u'hyderabad(bhadurpally)',\n",
       "       u'Nalagarh', u'Chandigarh ', u'Jaipur ', u'Jeddah Saudi Arabia',\n",
       "       u' Delhi', u'PATNA', u'SHAHDOL', u'Chennai, Bangalore', u'Bhopal ',\n",
       "       u'Jamnagar', u'PUNE', u'Tirupati', u'Gonda', u'jamnagar',\n",
       "       u'chennai ', u'orissa', u'kharagpur', u'Trivandrum ',\n",
       "       u'Navi Mumbai , Hyderabad', u'Joshimath', u'chandigarh',\n",
       "       u'Bathinda', u'Johannesburg', u'kala amb ', u'Karnal', u'LONDON',\n",
       "       u'Kota', u'Panchkula', u'Baddi HP', u'Nagari',\n",
       "       u'Mettur, Tamil Nadu ', u'Durgapur', u'pondi', u'Surat', u'Kurnool',\n",
       "       u'kolhapur', u'Madurai ', u'GREATER NOIDA', u'Bhilai', u' Pune',\n",
       "       u'hderabad', u'KOTA', u'thane', u'Vizag', u'Bahadurgarh',\n",
       "       u'Rayagada, Odisha', u'kakinada', u'GURGAON', u'Varanasi', u'punr',\n",
       "       u'Nellore', u'patna', u'Meerut', u'hyderabad ', u'Sahibabad',\n",
       "       u'Howrah', u'BHUBANESWAR', u'Trichur', u'Ambala', u'Khopoli',\n",
       "       u'keral', u'Roorkee', u'Greater NOIDA', u'Navi mumbai',\n",
       "       u'ghaziabad', u'Allahabad', u'Delhi/NCR', u'Panchkula ', u'Ranchi ',\n",
       "       u'Jalandhar', u'manesar', u'vapi', u'PILANI', u'muzzafarpur',\n",
       "       u'RAS AL KHAIMAH', u'bihar', u'singaruli', u'KANPUR', u'Banglore ',\n",
       "       u'pondy', u'Mohali', u'Phagwara', u' Mumbai', u' bangalore',\n",
       "       u'GURAGAON', u'Baripada', u'MEERUT', u'Yamuna Nagar', u'shahibabad',\n",
       "       u'sampla', u'Guwahati', u'Rourkela', u'Banaglore', u'Vellore',\n",
       "       u'Dausa', u'latur (Maharashtra )', u'NEW DELHI', u'kanpur',\n",
       "       u'Mainpuri', u'karnal', u'Dammam', u'Haldia', u'sambalpur',\n",
       "       u'RAE BARELI', u'ranchi', u'jAipur', u'BANGLORE', u'Patiala',\n",
       "       u'Gorakhpur', u'new dehli', u'BANGALORE ', u'Ambala City', u'Karad',\n",
       "       u'Rajpura', u'Pilani', u'haryana', u'Asifabadbanglore'], dtype=object)"
      ]
     },
     "execution_count": 304,
     "metadata": {},
     "output_type": "execute_result"
    }
   ],
   "source": [
    "pd.unique(train['JobCity'].values.ravel())"
   ]
  },
  {
   "cell_type": "markdown",
   "metadata": {},
   "source": [
    "we observe that 'Bangalore' itself has been manifested in several ways namely:\n",
    "'Bangalore '\n",
    "'bangalore'\n",
    "'bangalore '\n",
    "' bangalore'\n",
    "'banglore' \n",
    "'BAngalore'\n",
    "'BANGALORE'\n",
    "'BANGALORE '\n",
    "'BANGLORE'\n",
    "'Banglore '\n",
    "\n",
    "So the first task is to reassign all these city names as 'Bangalore'"
   ]
  },
  {
   "cell_type": "code",
   "execution_count": 310,
   "metadata": {
    "collapsed": false
   },
   "outputs": [
    {
     "name": "stdout",
     "output_type": "stream",
     "text": [
      "44\n"
     ]
    }
   ],
   "source": [
    "bloreList = ['Bangalore ','bangalore','bangalore ',' bangalore','banglore' ,'BAngalore','BANGALORE','BANGALORE ',\n",
    "             'BANGLORE','Banglore ','Banagalore']\n",
    "\n",
    "count = 0\n",
    "for city in train['JobCity']:\n",
    "    if (city in bloreList):\n",
    "        city = 'Bangalore'\n",
    "        count = count+1\n",
    "print(count)\n",
    "\n",
    "#train['JobCity'] = ['Bangalore' for train['JobCity'] in bloreList]"
   ]
  },
  {
   "cell_type": "code",
   "execution_count": 320,
   "metadata": {
    "collapsed": false
   },
   "outputs": [
    {
     "ename": "AttributeError",
     "evalue": "'str' object has no attribute 'replace_all'",
     "output_type": "error",
     "traceback": [
      "\u001b[1;31m---------------------------------------------------------------------------\u001b[0m",
      "\u001b[1;31mAttributeError\u001b[0m                            Traceback (most recent call last)",
      "\u001b[1;32m<ipython-input-320-c7dae65fecdf>\u001b[0m in \u001b[0;36m<module>\u001b[1;34m()\u001b[0m\n\u001b[0;32m      4\u001b[0m \u001b[1;33m\u001b[0m\u001b[0m\n\u001b[0;32m      5\u001b[0m \u001b[0mwords\u001b[0m \u001b[1;33m=\u001b[0m \u001b[1;33m[\u001b[0m\u001b[1;34m'hi'\u001b[0m\u001b[1;33m,\u001b[0m \u001b[1;34m'bye'\u001b[0m\u001b[1;33m,\u001b[0m \u001b[1;34m'no'\u001b[0m\u001b[1;33m,\u001b[0m \u001b[1;34m'hi'\u001b[0m\u001b[1;33m]\u001b[0m\u001b[1;33m\u001b[0m\u001b[0m\n\u001b[1;32m----> 6\u001b[1;33m \u001b[0mwords\u001b[0m \u001b[1;33m=\u001b[0m \u001b[1;33m[\u001b[0m\u001b[0mw\u001b[0m\u001b[1;33m.\u001b[0m\u001b[0mreplace_all\u001b[0m\u001b[1;33m(\u001b[0m\u001b[1;33m[\u001b[0m\u001b[1;34m'hi'\u001b[0m\u001b[1;33m,\u001b[0m\u001b[1;34m'no'\u001b[0m\u001b[1;33m,\u001b[0m\u001b[1;34m'bye'\u001b[0m\u001b[1;33m]\u001b[0m\u001b[1;33m,\u001b[0m \u001b[1;34m'hello'\u001b[0m\u001b[1;33m)\u001b[0m \u001b[1;32mfor\u001b[0m \u001b[0mw\u001b[0m \u001b[1;32min\u001b[0m \u001b[0mwords\u001b[0m\u001b[1;33m]\u001b[0m\u001b[1;33m\u001b[0m\u001b[0m\n\u001b[0m\u001b[0;32m      7\u001b[0m \u001b[0mwords\u001b[0m\u001b[1;33m\u001b[0m\u001b[0m\n",
      "\u001b[1;31mAttributeError\u001b[0m: 'str' object has no attribute 'replace_all'"
     ]
    }
   ],
   "source": [
    "def replace_all(text, word):\n",
    "    for t in text:\n",
    "        replace(t,word)\n",
    "\n",
    "words = ['hi', 'bye', 'no', 'hi']\n",
    "words = [replace_all(['hi','no','bye'], 'hello') for w in words]\n",
    "words"
   ]
  },
  {
   "cell_type": "code",
   "execution_count": 306,
   "metadata": {
    "collapsed": false
   },
   "outputs": [
    {
     "data": {
      "text/plain": [
       "array([u'computer engineering',\n",
       "       u'electronics and communication engineering',\n",
       "       u'information technology', ..., u'computer engineering',\n",
       "       u'computer science & engineering', u'information technology'], dtype=object)"
      ]
     },
     "execution_count": 306,
     "metadata": {},
     "output_type": "execute_result"
    }
   ],
   "source": [
    "train['Specialization'].values"
   ]
  },
  {
   "cell_type": "code",
   "execution_count": 307,
   "metadata": {
    "collapsed": false
   },
   "outputs": [],
   "source": [
    "if 'computer sciences' in csList:\n",
    "    print 'yes'"
   ]
  },
  {
   "cell_type": "code",
   "execution_count": 308,
   "metadata": {
    "collapsed": false
   },
   "outputs": [
    {
     "data": {
      "text/plain": [
       "True"
      ]
     },
     "execution_count": 308,
     "metadata": {},
     "output_type": "execute_result"
    }
   ],
   "source": [
    "'computer science' in csList"
   ]
  },
  {
   "cell_type": "code",
   "execution_count": 309,
   "metadata": {
    "collapsed": false
   },
   "outputs": [
    {
     "data": {
      "text/plain": [
       "train     True\n",
       "train    False\n",
       "train    False\n",
       "train     True\n",
       "train    False\n",
       "train    False\n",
       "train    False\n",
       "train    False\n",
       "train    False\n",
       "train    False\n",
       "train     True\n",
       "train    False\n",
       "train    False\n",
       "train    False\n",
       "train    False\n",
       "train    False\n",
       "train    False\n",
       "train    False\n",
       "train    False\n",
       "train     True\n",
       "train     True\n",
       "train    False\n",
       "train    False\n",
       "train    False\n",
       "train    False\n",
       "train    False\n",
       "train     True\n",
       "train    False\n",
       "train    False\n",
       "train    False\n",
       "         ...  \n",
       "train     True\n",
       "train    False\n",
       "train    False\n",
       "train    False\n",
       "train    False\n",
       "train    False\n",
       "train    False\n",
       "train    False\n",
       "train    False\n",
       "train    False\n",
       "train    False\n",
       "train     True\n",
       "train    False\n",
       "train    False\n",
       "train    False\n",
       "train    False\n",
       "train     True\n",
       "train     True\n",
       "train    False\n",
       "train    False\n",
       "train    False\n",
       "train    False\n",
       "train    False\n",
       "train    False\n",
       "train    False\n",
       "train    False\n",
       "train    False\n",
       "train     True\n",
       "train    False\n",
       "train    False\n",
       "Name: Specialization, dtype: bool"
      ]
     },
     "execution_count": 309,
     "metadata": {},
     "output_type": "execute_result"
    }
   ],
   "source": [
    "train['Specialization'] == ('computer engineering' or 'computer science & engineering' or \n",
    "'computer application' or 'electronics and computer engineering' or 'computer science and technology' or \n",
    "'computer and communication engineering' or 'computer networking' or 'computer science')"
   ]
  },
  {
   "cell_type": "code",
   "execution_count": null,
   "metadata": {
    "collapsed": false
   },
   "outputs": [],
   "source": []
  },
  {
   "cell_type": "code",
   "execution_count": null,
   "metadata": {
    "collapsed": true
   },
   "outputs": [],
   "source": []
  }
 ],
 "metadata": {
  "kernelspec": {
   "display_name": "Python 2",
   "language": "python",
   "name": "python2"
  },
  "language_info": {
   "codemirror_mode": {
    "name": "ipython",
    "version": 2
   },
   "file_extension": ".py",
   "mimetype": "text/x-python",
   "name": "python",
   "nbconvert_exporter": "python",
   "pygments_lexer": "ipython2",
   "version": "2.7.10"
  }
 },
 "nbformat": 4,
 "nbformat_minor": 0
}
